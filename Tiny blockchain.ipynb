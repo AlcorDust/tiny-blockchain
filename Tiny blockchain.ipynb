{
 "cells": [
  {
   "cell_type": "markdown",
   "metadata": {},
   "source": [
    "# Tiny blockchain"
   ]
  },
  {
   "cell_type": "markdown",
   "metadata": {},
   "source": [
    "Librerie necessarie"
   ]
  },
  {
   "cell_type": "code",
   "execution_count": 74,
   "metadata": {},
   "outputs": [],
   "source": [
    "import hashlib\n",
    "import json\n",
    "from time import time\n",
    "from datetime import datetime"
   ]
  },
  {
   "cell_type": "markdown",
   "metadata": {},
   "source": [
    "Test per tempo unix e orario"
   ]
  },
  {
   "cell_type": "code",
   "execution_count": 75,
   "metadata": {},
   "outputs": [
    {
     "name": "stdout",
     "output_type": "stream",
     "text": [
      "1552851012.6409957\n",
      "2019-03-17 19:30:12\n"
     ]
    }
   ],
   "source": [
    "t0 = time()\n",
    "print(t0)\n",
    "\n",
    "date = datetime.utcfromtimestamp(t0).strftime('%Y-%m-%d %H:%M:%S')\n",
    "print(date)"
   ]
  },
  {
   "cell_type": "markdown",
   "metadata": {},
   "source": [
    "Funzioni necessarie"
   ]
  },
  {
   "cell_type": "code",
   "execution_count": 93,
   "metadata": {},
   "outputs": [],
   "source": [
    "# Crea blocco di genesi ############################## \n",
    "\n",
    "def genesis_chain(blockchain):\n",
    "\n",
    "    t0 = time()\n",
    "\n",
    "    block_genesis = {\n",
    "        \"prev_hash\": None,\n",
    "        \"timestamp\": t0,\n",
    "        \"data\": [0]\n",
    "    }\n",
    "\n",
    "    with open(\"blockchain.txt\", 'w') as dataFile:\n",
    "        dataFile.write(str(block_genesis)+'\\n') \n",
    "\n",
    "    blockchain.append(block_genesis)\n",
    "    block_genesis_serialized = json.dumps(block_genesis, sort_keys=True).encode('utf-8')\n",
    "    block_genesis_hash = hashlib.sha256(block_genesis_serialized).hexdigest()\n",
    "    zero_hash = block_genesis_hash\n",
    "\n",
    "    return zero_hash\n",
    "\n",
    "# Crea nuovo blocco ################################### \n",
    "\n",
    "def new_block(blockchain, prev_hash, data):\n",
    "    \n",
    "    t = time()\n",
    "    new = {\n",
    "        \"prev_hash\": prev_hash,\n",
    "        \"timestamp\": t,\n",
    "        \"data\": data \n",
    "    }\n",
    "    \n",
    "    with open(\"blockchain.txt\", 'a') as dataFile:\n",
    "        dataFile.write(str(new)+'\\n') \n",
    "\n",
    "    blockchain.append(new)    \n",
    "    block_serialized = json.dumps(new, sort_keys=True).encode('utf-8')\n",
    "    block_hash = hashlib.sha256(block_serialized).hexdigest()\n",
    "\n",
    "    return new, block_hash\n",
    "\n",
    "# Calcola l'hash finale della chain ################## \n",
    "\n",
    "def hash_blocks(blocks):\n",
    "    \n",
    "    prev_hash = None\n",
    "    \n",
    "    for block in blocks:\n",
    "        block['prev_hash'] = prev_hash\n",
    "        block_serialized = json.dumps(block, sort_keys=True).encode('utf-8')\n",
    "        block_hash = hashlib.sha256(block_serialized).hexdigest()\n",
    "        prev_hash = block_hash\n",
    "        \n",
    "    return prev_hash\n"
   ]
  },
  {
   "cell_type": "markdown",
   "metadata": {},
   "source": [
    "Fase di avvio del programma"
   ]
  },
  {
   "cell_type": "code",
   "execution_count": 94,
   "metadata": {},
   "outputs": [
    {
     "name": "stdout",
     "output_type": "stream",
     "text": [
      "Vuoi sovrascrivere la blockchain già esistente?(yes/no)yes\n",
      "yes\n"
     ]
    }
   ],
   "source": [
    "command = ''\n",
    "blockchain = []\n",
    "\n",
    "while command != \"si\" and command != \"no\":\n",
    "    command = input(\"Vuoi sovrascrivere la blockchain già esistente?(si/no)\")\n",
    "    print(command)\n",
    "\n",
    "if command == \"si\":\n",
    "\n",
    "    final_hash = genesis_chain(blockchain)\n",
    "    prev_hash = final_hash\n",
    "\n",
    "elif command == \"no\":\n",
    "\n",
    "    # Carico tutta la blockchain nel file nella lista blockchain\n",
    "    with open(\"blockchain.txt\") as dataFile:  \n",
    "        blockchain = dataFile.readlines()\n",
    "    \n",
    "    #print(blockchain)"
   ]
  },
  {
   "cell_type": "markdown",
   "metadata": {},
   "source": [
    "Fase operativa (loop)"
   ]
  },
  {
   "cell_type": "code",
   "execution_count": 99,
   "metadata": {},
   "outputs": [
    {
     "name": "stdout",
     "output_type": "stream",
     "text": [
      "\n",
      "--------------------------\n",
      " Nuovo blocco: a\n",
      " Mostra blockchain: b\n",
      " Calcola blockchain: c\n",
      " Esci: q\n",
      "--------------------------\n",
      ">>>q\n"
     ]
    }
   ],
   "source": [
    "while(1):\n",
    "\n",
    "    command = input(\"\\n--------------------------\\n Nuovo blocco: a\\n Mostra blockchain: b\\n Calcola blockchain: c\\n Esci: q\\n--------------------------\\n>>>\")\n",
    "\n",
    "    if command == 'a':\n",
    "        \n",
    "        # Acquisisco dati\n",
    "        payload = input(\"\\nInserire la stringa di dati nel formato [dato1, dato2, ...], quadre incluse: \")\n",
    "        print(\"Dato inserito: {}\\n\".format(payload))\n",
    "\n",
    "        # Costruisco il blocco e lo aggiungo alla blockchain\n",
    "        last_block, last_hash = new_block(blockchain, prev_hash, payload)\n",
    "        prev_hash = last_hash\n",
    "\n",
    "        final_hash = last_hash\n",
    "\n",
    "        print(\"\\nNuovo blocco: {}\".format(last_block))\n",
    "        print(\"\\nNuovo hash: {}\".format(last_hash))\n",
    "\n",
    "    elif command == 'b':\n",
    "    \n",
    "        # Mostro tutta la blockchain\n",
    "        for line in blockchain:\n",
    "            line_dict = dict(line)\n",
    "            orario = datetime.utcfromtimestamp(line_dict['timestamp']).strftime('%Y-%m-%d %H:%M:%S')\n",
    "            print(orario)\n",
    "            print(line_dict)\n",
    "\n",
    "        print(\"\\nFinal hash: {}\".format(prev_hash))\n",
    "\n",
    "    elif command == 'c':\n",
    "\n",
    "        # Ricalcolo tutta la blockchain\n",
    "        final_hash_calc = hash_blocks(blockchain)\n",
    "        print(\"\\nFinal hash: {}\".format(final_hash_calc))\n",
    "\n",
    "        if final_hash == final_hash_calc:\n",
    "            print(\"\\nLa blockchain è autentica\")\n",
    "        else:\n",
    "            print(\"\\nLa blockchain NON è autentica!\")\n",
    "            \n",
    "    elif command == 'q':\n",
    "        break"
   ]
  },
  {
   "cell_type": "code",
   "execution_count": null,
   "metadata": {},
   "outputs": [],
   "source": []
  }
 ],
 "metadata": {
  "kernelspec": {
   "display_name": "Python 3",
   "language": "python",
   "name": "python3"
  },
  "language_info": {
   "codemirror_mode": {
    "name": "ipython",
    "version": 3
   },
   "file_extension": ".py",
   "mimetype": "text/x-python",
   "name": "python",
   "nbconvert_exporter": "python",
   "pygments_lexer": "ipython3",
   "version": "3.6.5"
  }
 },
 "nbformat": 4,
 "nbformat_minor": 2
}
